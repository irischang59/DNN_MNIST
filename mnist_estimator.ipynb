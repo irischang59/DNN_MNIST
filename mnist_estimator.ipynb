{
 "cells": [
  {
   "cell_type": "code",
   "execution_count": 1,
   "metadata": {},
   "outputs": [],
   "source": [
    "import numpy as np\n",
    "import tensorflow as tf\n",
    "from sklearn.base import BaseEstimator, ClassifierMixin\n",
    "from sklearn.exceptions import NotFittedError\n",
    "from datetime import datetime\n",
    "\n",
    "# He et al. initialization from https://arxiv.org/abs/1502.01852\n",
    "he_init = tf.contrib.layers.variance_scaling_initializer()\n",
    "\n",
    "# This class inherits from Sklearn's BaseEstimator and ClassifierMixin \n",
    "class DNNClassifier(BaseEstimator, ClassifierMixin):\n",
    "    def __init__(self, n_hidden_layers=5, n_neurons=100, \n",
    "                 optimizer_class=tf.train.AdamOptimizer, \n",
    "                 learning_rate=0.01, batch_size=64, \n",
    "                 activation=tf.nn.elu, initializer=he_init, \n",
    "                 batch_norm_momentum=None, dropout_rate=None, \n",
    "                 max_checks_without_progress=20, show_progress=10, \n",
    "                 tensorboard_logdir=None, random_state=None):\n",
    "\n",
    "        # Initialize the class with sensible default hyperparameters\n",
    "        self.n_hidden_layers = n_hidden_layers\n",
    "        self.n_neurons = n_neurons\n",
    "        self.optimizer_class = optimizer_class\n",
    "        self.learning_rate = learning_rate\n",
    "        self.batch_size = batch_size\n",
    "        self.activation = activation\n",
    "        self.initializer = initializer\n",
    "        self.batch_norm_momentum = batch_norm_momentum\n",
    "        self.dropout_rate = dropout_rate\n",
    "        self.max_checks_without_progress = max_checks_without_progress\n",
    "        self.show_progress = show_progress\n",
    "        self.random_state = random_state\n",
    "        self.tensorboard_logdir = tensorboard_logdir\n",
    "        self._session = None # Instance variables preceded by _ are private members\n",
    "\n",
    "    def _dnn(self, inputs):\n",
    "        '''This method builds the hidden layers and \n",
    "        Provides for implementation of batch normalization and dropout'''\n",
    "\n",
    "        for layer in range(self.n_hidden_layers):\n",
    "\n",
    "            # Apply dropout if specified\n",
    "            if self.dropout_rate:\n",
    "                inputs = tf.layers.dropout(inputs, rate=self.dropout_rate, training=self._training)\n",
    "            # Create the hidden layer\n",
    "            inputs = tf.layers.dense(inputs, self.n_neurons, \n",
    "                                     activation=self.activation, \n",
    "                                     kernel_initializer=self.initializer, \n",
    "                                     name = \"hidden{}\".format(layer+1))\n",
    "\n",
    "            # Apply batch normalization if specified\n",
    "            if self.batch_norm_momentum:\n",
    "                inputs = tf.layers.batch_normalization(inputs,momentum=self.batch_norm_momentum,\n",
    "                                                       training=self._training)\n",
    "\n",
    "            # Apply activation function\n",
    "            inputs = self.activation(inputs, name=\"hidden{}_out\".format(layer+1))\n",
    "        return inputs\n",
    "\n",
    "    def _construct_graph(self, n_inputs, n_outputs):\n",
    "        '''This method builds the complete Tensorflow computation graph\n",
    "        n_inputs: number of features \n",
    "        n_outputs: number of classes\n",
    "        '''\n",
    "\n",
    "        if self.random_state:\n",
    "            tf.set_random_seed(self.random_state)\n",
    "            np.random.seed(self.random_state)\n",
    " \n",
    "        # Placeholders for training data, labels are class exclusive integers\n",
    "        X = tf.placeholder(tf.float32, shape=[None, n_inputs], name=\"X\")\n",
    "        y = tf.placeholder(tf.int32, shape=[None], name=\"y\")\n",
    "        \n",
    "        # Create a training placeholder \n",
    "        if self.batch_norm_momentum or self.dropout_rate:\n",
    "            self._training = tf.placeholder_with_default(False, shape=[], name=\"training\")\n",
    "        else:\n",
    "            self._training = None\n",
    "\n",
    "        # Output after hidden layers \n",
    "        pre_output = self._dnn(X)\n",
    "        \n",
    "        # Outputs from output layer\n",
    "        logits = tf.layers.dense(pre_output, n_outputs, kernel_initializer=he_init, name=\"logits\")\n",
    "        probabilities = tf.nn.softmax(logits, name=\"probabilities\")\n",
    "        \n",
    "        ''' Cost function is cross entropy and loss is average cross entropy. Sparse softmax must be used because shape of logits is [None, n_classes] and shape of labels is [None]'''\n",
    "        xentropy = tf.nn.sparse_softmax_cross_entropy_with_logits(labels=y, logits=logits)\n",
    "        loss = tf.reduce_mean(xentropy, name=\"loss\")\n",
    "\n",
    "        '''Optimizer and training operation. The control dependency is necessary for implementing batch normalization. The training operation must be dependent on the batch normalization.'''\n",
    "\n",
    "        optimizer = self.optimizer_class(learning_rate=self.learning_rate)\n",
    "        update_ops = tf.get_collection(tf.GraphKeys.UPDATE_OPS)\n",
    "        with tf.control_dependencies(update_ops):\n",
    "            training_op = optimizer.minimize(loss)\n",
    "\n",
    "        # Metrics for evaluation\n",
    "        correct = tf.nn.in_top_k(logits, y, 1)    \n",
    "        accuracy = tf.reduce_mean(tf.cast(correct, tf.float32),name=\"accuracy\")\n",
    "\n",
    "        # Initializer and saver \n",
    "        init = tf.global_variables_initializer()\n",
    "        saver = tf.train.Saver()\n",
    "\n",
    "        if self.tensorboard_logdir:\n",
    "            now = datetime.utcnow().strftime('%Y%m%d-%H%M%S')\n",
    "            tb_logdir = self.tensorboard_logdir + \"/run-{}\".format(now)\n",
    "            cost_summary = tf.summary.scalar(\"validation_loss\", loss)\n",
    "            acc_summary = tf.summary.scalar(\"validation_accuracy\", accuracy)\n",
    "            merged_summary = tf.summary.merge_all()\n",
    "            file_writer = tf.summary.FileWriter(tb_logdir, tf.get_default_graph())\n",
    "\n",
    "            self._merged_summary = merged_summary\n",
    "            self._file_writer = file_writer\n",
    "\n",
    "        self._X, self._y = X, y\n",
    "        self._logits = logits\n",
    "        self._probabilities = probabilities\n",
    "        self._loss = loss\n",
    "        self._training_op = training_op\n",
    "        self._accuracy = accuracy\n",
    "        self._init, self._saver = init, saver\n",
    "\n",
    "        \n",
    "    def close_session(self):\n",
    "        if self._session:\n",
    "            self._session.close()\n",
    "\n",
    "    def _get_model_parameters(self):\n",
    "        # Retrieves the value of all the variables in the network \n",
    "        with self._graph.as_default():\n",
    "            gvars = tf.get_collection(tf.GraphKeys.GLOBAL_VARIABLES)\n",
    "        return {gvar.op.name: value for gvar, value in \n",
    "                zip(gvars, self._session.run(gvars))}\n",
    "\n",
    "    def _restore_model_parameters(self, model_params):\n",
    "        # Restores the value of all variables using tf assign operations\n",
    "        # First retrieve the list of all the graph variables\n",
    "        gvar_names = list(model_params.keys())\n",
    "\n",
    "        # Then retrieve all the assignment operations in the graph\n",
    "        assign_ops = {gvar_name: self._graph.get_operation_by_name(gvar_name +  \"/Assign\") for gvar_name in gvar_names}\n",
    "\n",
    "        # Fetch the initialization values of the assignment operations\n",
    "        '''graph.get_operation_by_name(operation).inputs returns the input to the given operation; because these are all assignment operations, the second argument to inputs is the value assigned to the variable'''\n",
    "        init_values = {gvar_name: assign_op.inputs[1] for gvar_name, assign_op \t\t\t  in assign_ops.items()}\n",
    "        # Create a dictionary mapping initial values to values after training\n",
    "        feed_dict = {init_values[gvar_name]: model_params[gvar_name] for gvar_name in gvar_names}\n",
    "        # Assign the trained value to all the variables in the graph\n",
    "        self._session.run(assign_ops, feed_dict=feed_dict)\n",
    "\n",
    "    def fit(self, X, y, n_epochs=100, X_valid=None, y_valid=None):\n",
    "        # Method to train the model. Implements early stopping if validation data is provided \n",
    "\n",
    "        self.close_session()\n",
    "        n_inputs = X.shape[1] # Number of features\n",
    "\n",
    "        # If labels are provided in one_hot form, convert to integer class labels\n",
    "        y = np.array(y)\n",
    "        y_valid = np.array(y_valid)\n",
    "\n",
    "        if len(y.shape) == 2:\n",
    "            y = np.argmax(y, axis=1)\n",
    " \n",
    "        if len(y_valid.shape) == 2:\n",
    "            y_valid = np.argmax(y_valid, axis=1)\n",
    "\n",
    "        self.classes_ = np.unique(y)\n",
    "        n_outputs = len(self.classes_) # Number of classes\n",
    "\n",
    "        # Tensorflow expects labels from 0 to n_classes - 1. \n",
    "        self.class_to_index_ = {label: index for index, label in enumerate(self.classes_)}\n",
    "        labels = [self.class_to_index_[label] for label in y]\n",
    "        y = np.array(labels, dtype=np.int32)\n",
    "\n",
    "        self._graph = tf.Graph()\n",
    "\n",
    "        # Build the computation graph with self as default graph\n",
    "        with self._graph.as_default():\n",
    "            self._construct_graph(n_inputs, n_outputs)\n",
    "\n",
    "        # Early stopping parameters\n",
    "        checks_without_progress = 0 \n",
    "        best_loss = np.float(\"inf\")\n",
    "        best_parameters = None\n",
    "        \n",
    "        self._session = tf.Session(graph=self._graph)\n",
    "\n",
    "        with self._session.as_default() as sess:\n",
    "            # Initialize all variables\n",
    "            self._init.run()\n",
    "            num_instances = X.shape[0] # Total number of training instances\n",
    "            for epoch in range(n_epochs):\n",
    "                rnd_idx = np.random.permutation(num_instances)\n",
    "                for rnd_indices in np.array_split(rnd_idx, num_instances // self.batch_size):\n",
    "                    X_batch, y_batch = X[rnd_indices], y[rnd_indices]\n",
    "                    feed_dict = {self._X: X_batch, self._y: y_batch}\n",
    "                    if self._training is not None:\n",
    "                        feed_dict[self._training] = True\n",
    "                    train_acc, _ = sess.run([self._accuracy,self._training_op], feed_dict)\n",
    "\n",
    "                # Early stopping implementation\n",
    "                if X_valid is not None and y_valid is not None:\n",
    "                    feed_dict_valid = {self._X: X_valid, self._y: y_valid}\n",
    "\n",
    "                    # Write summary for tensorboard\n",
    "                    if self.tensorboard_logdir:\n",
    "                        val_acc, val_loss, summary = sess.run([self._accuracy, self._loss, self._merged_summary], feed_dict=feed_dict_valid)\n",
    "\n",
    "                        self._file_writer.add_summary(summary, epoch)\n",
    "\n",
    "                    else:\n",
    "                        val_acc, val_loss = sess.run([self._accuracy, self._loss], feed_dict=feed_dict_valid)\n",
    "\n",
    "                    # Show training progress every show_progress epochs\n",
    "                    if self.show_progress:\n",
    "                        if epoch % self.show_progress == 0:\n",
    "                            print(\"Epoch: {} Current training accuracy: {:.4f} Validation Accuracy: {:.4f} Validation Loss {:.6f}\".format(\n",
    "                                epoch+1, train_acc, val_acc, val_loss))\n",
    "\n",
    "                    # Check to see if model is improving \n",
    "                    if val_loss < best_loss:\n",
    "                        best_loss = val_loss\n",
    "                        checks_without_progress = 0\n",
    "                        best_parameters = self._get_model_parameters()\n",
    "                    else:\n",
    "                        checks_without_progress += 1\n",
    "\n",
    "                    if checks_without_progress > self.max_checks_without_progress:\n",
    "                        print(\"Stopping Early! Loss has not improved in {} epochs\".format(self.max_checks_without_progress))\n",
    "                        break\n",
    "   \n",
    "                # No validation set provided\n",
    "                else:\n",
    "                    if self.show_progress:\n",
    "                        if epoch % self.show_progress == 0:\n",
    "                            print(\"Epoch: {} Current training accuracy: {:.4f}\".format(epoch+1, train_acc))\n",
    "\n",
    "            # In the case of early stopping, restore the best weight values\n",
    "            if best_parameters:\n",
    "                self._restore_model_parameters(best_parameters)\n",
    "                return self\n",
    "\n",
    "    def predict_probabilities(self, X):\n",
    "        # Predict the probabilities of each class \n",
    "        if not self._session:\n",
    "            raise NotFittedError(\"This %s instance is not fitted yet\" % self.__class__.__name__)\n",
    "        with self._session.as_default() as sess:\n",
    "            return self._probabilities.eval(feed_dict={self._X: X})\n",
    "\n",
    "    def predict(self, X):\n",
    "        # Predict the classes themselves and return with shape=(None,)\n",
    "        class_indices = np.argmax(self.predict_probabilities(X), axis=1)\n",
    "        predictions = np.array([[self.classes_[class_index]] for class_index in class_indices], dtype=np.int32)\n",
    "        return np.reshape(predictions, (-1,))\n",
    "\n",
    "    def save(self, path):\n",
    "        # Save the model to provided path\n",
    "        self._saver.save(self._session, path)"
   ]
  },
  {
   "cell_type": "code",
   "execution_count": 2,
   "metadata": {},
   "outputs": [
    {
     "name": "stdout",
     "output_type": "stream",
     "text": [
      "Extracting /tmp/data/train-images-idx3-ubyte.gz\n",
      "Extracting /tmp/data/train-labels-idx1-ubyte.gz\n",
      "Extracting /tmp/data/t10k-images-idx3-ubyte.gz\n",
      "Extracting /tmp/data/t10k-labels-idx1-ubyte.gz\n"
     ]
    }
   ],
   "source": [
    "from tensorflow.examples.tutorials.mnist import input_data\n",
    "\n",
    "mnist = input_data.read_data_sets(\"/tmp/data\")\n",
    "\n",
    "X_train = mnist.train.images\n",
    "y_train = mnist.train.labels\n",
    "\n",
    "X_validation = mnist.validation.images\n",
    "y_validation = mnist.validation.labels\n",
    "\n",
    "X_test = mnist.test.images\n",
    "y_test = mnist.test.labels"
   ]
  },
  {
   "cell_type": "code",
   "execution_count": 3,
   "metadata": {},
   "outputs": [
    {
     "name": "stdout",
     "output_type": "stream",
     "text": [
      "Epoch: 1 Current training accuracy: 0.9375 Validation Accuracy: 0.9490 Validation Loss 0.197036\n",
      "Epoch: 11 Current training accuracy: 0.9219 Validation Accuracy: 0.9626 Validation Loss 0.217349\n",
      "Epoch: 21 Current training accuracy: 0.9531 Validation Accuracy: 0.9412 Validation Loss 0.312047\n",
      "Stopping Early! Loss has not improved in 20 epochs\n"
     ]
    },
    {
     "data": {
      "text/plain": [
       "DNNClassifier(activation=<function elu at 0x11861a5f0>,\n",
       "       batch_norm_momentum=None, batch_size=64, dropout_rate=None,\n",
       "       initializer=<function _initializer at 0xf20bc9140>,\n",
       "       learning_rate=0.01, max_checks_without_progress=20,\n",
       "       n_hidden_layers=5, n_neurons=100,\n",
       "       optimizer_class=<class 'tensorflow.python.training.adam.AdamOptimizer'>,\n",
       "       random_state=42, show_progress=10,\n",
       "       tensorboard_logdir='tensorboard_stats')"
      ]
     },
     "execution_count": 3,
     "metadata": {},
     "output_type": "execute_result"
    }
   ],
   "source": [
    "dnn = DNNClassifier(tensorboard_logdir=\"tensorboard_stats\", random_state=42)\n",
    "dnn.fit(X_train, y_train, 100, X_validation, y_validation)"
   ]
  },
  {
   "cell_type": "code",
   "execution_count": 4,
   "metadata": {},
   "outputs": [
    {
     "name": "stdout",
     "output_type": "stream",
     "text": [
      "Accuracy on the test set: 95.85%\n"
     ]
    }
   ],
   "source": [
    "from sklearn.metrics import accuracy_score\n",
    "\n",
    "y_pred = dnn.predict(X_test)\n",
    "print(\"Accuracy on the test set: {:.2f}%\".format(accuracy_score(y_test, y_pred) * 100))"
   ]
  },
  {
   "cell_type": "code",
   "execution_count": 5,
   "metadata": {
    "collapsed": true
   },
   "outputs": [],
   "source": [
    "import matplotlib.pyplot as plt\n",
    "import numpy as np\n",
    "%matplotlib inline"
   ]
  },
  {
   "cell_type": "code",
   "execution_count": 6,
   "metadata": {},
   "outputs": [
    {
     "data": {
      "image/png": "[encoded data removed]",
      "text/plain": [
       "<Figure size 576x576 with 1 Axes>"
      ]
     },
     "metadata": {},
     "output_type": "display_data"
    },
    {
     "name": "stdout",
     "output_type": "stream",
     "text": [
      "0 Confidence: 0.00%\n",
      "1 Confidence: 100.00%\n",
      "2 Confidence: 0.00%\n",
      "3 Confidence: 0.00%\n",
      "4 Confidence: 0.00%\n",
      "5 Confidence: 0.00%\n",
      "6 Confidence: 0.00%\n",
      "7 Confidence: 0.00%\n",
      "8 Confidence: 0.00%\n",
      "9 Confidence: 0.00%\n"
     ]
    },
    {
     "data": {
      "image/png": "[encoded data removed]",
      "text/plain": [
       "<Figure size 576x576 with 1 Axes>"
      ]
     },
     "metadata": {},
     "output_type": "display_data"
    },
    {
     "name": "stdout",
     "output_type": "stream",
     "text": [
      "0 Confidence: 0.01%\n",
      "1 Confidence: 0.16%\n",
      "2 Confidence: 98.81%\n",
      "3 Confidence: 0.11%\n",
      "4 Confidence: 0.05%\n",
      "5 Confidence: 0.00%\n",
      "6 Confidence: 0.00%\n",
      "7 Confidence: 0.01%\n",
      "8 Confidence: 0.84%\n",
      "9 Confidence: 0.00%\n"
     ]
    },
    {
     "data": {
      "image/png": "[encoded data removed]",
      "text/plain": [
       "<Figure size 576x576 with 1 Axes>"
      ]
     },
     "metadata": {},
     "output_type": "display_data"
    },
    {
     "name": "stdout",
     "output_type": "stream",
     "text": [
      "0 Confidence: 0.05%\n",
      "1 Confidence: 90.36%\n",
      "2 Confidence: 1.56%\n",
      "3 Confidence: 0.22%\n",
      "4 Confidence: 1.02%\n",
      "5 Confidence: 0.15%\n",
      "6 Confidence: 2.15%\n",
      "7 Confidence: 0.61%\n",
      "8 Confidence: 3.65%\n",
      "9 Confidence: 0.24%\n"
     ]
    },
    {
     "data": {
      "image/png": "[encoded data removed]",
      "text/plain": [
       "<Figure size 576x576 with 1 Axes>"
      ]
     },
     "metadata": {},
     "output_type": "display_data"
    },
    {
     "name": "stdout",
     "output_type": "stream",
     "text": [
      "0 Confidence: 0.00%\n",
      "1 Confidence: 0.00%\n",
      "2 Confidence: 0.02%\n",
      "3 Confidence: 0.00%\n",
      "4 Confidence: 0.00%\n",
      "5 Confidence: 0.00%\n",
      "6 Confidence: 0.00%\n",
      "7 Confidence: 99.97%\n",
      "8 Confidence: 0.00%\n",
      "9 Confidence: 0.00%\n"
     ]
    }
   ],
   "source": [
    "example_indices = np.random.randint(len(X_test), size=4)\n",
    "\n",
    "for i, image_index in enumerate(example_indices):\n",
    "    probabilities = dnn.predict_probabilities(X_test[image_index].reshape(-1, 784))\n",
    "    plt.figure(figsize=(8,8))\n",
    "    plt.imshow(X_test[image_index].reshape(28,28), cmap=\"binary\")\n",
    "    plt.show()\n",
    "    for label, probability in zip(dnn.classes_, probabilities[0]):\n",
    "        print(\"{} Confidence: {:.2f}%\".format(label, probability*100))"
   ]
  },
  {
   "cell_type": "markdown",
   "metadata": {},
   "source": [
    "### Use Randomized Search to find the best hyperparameters"
   ]
  },
  {
   "cell_type": "code",
   "execution_count": 7,
   "metadata": {
    "collapsed": true
   },
   "outputs": [],
   "source": [
    "from sklearn.model_selection import GridSearchCV\n",
    "from sklearn.model_selection import RandomizedSearchCV"
   ]
  },
  {
   "cell_type": "code",
   "execution_count": 14,
   "metadata": {},
   "outputs": [
    {
     "name": "stdout",
     "output_type": "stream",
     "text": [
      "Fitting 3 folds for each of 5 candidates, totalling 15 fits\n",
      "[CV] n_hidden_layers=5, n_neurons=50, dropout_rate=0.5 ...............\n",
      "[CV]  n_hidden_layers=5, n_neurons=50, dropout_rate=0.5, total= 3.0min\n",
      "[CV] n_hidden_layers=5, n_neurons=50, dropout_rate=0.5 ...............\n"
     ]
    },
    {
     "name": "stderr",
     "output_type": "stream",
     "text": [
      "[Parallel(n_jobs=1)]: Done   1 out of   1 | elapsed:  3.0min remaining:    0.0s\n"
     ]
    },
    {
     "name": "stdout",
     "output_type": "stream",
     "text": [
      "[CV]  n_hidden_layers=5, n_neurons=50, dropout_rate=0.5, total= 3.0min\n",
      "[CV] n_hidden_layers=5, n_neurons=50, dropout_rate=0.5 ...............\n",
      "[CV]  n_hidden_layers=5, n_neurons=50, dropout_rate=0.5, total= 3.0min\n",
      "[CV] n_hidden_layers=4, n_neurons=50, dropout_rate=0.5 ...............\n",
      "[CV]  n_hidden_layers=4, n_neurons=50, dropout_rate=0.5, total= 2.7min\n",
      "[CV] n_hidden_layers=4, n_neurons=50, dropout_rate=0.5 ...............\n",
      "[CV]  n_hidden_layers=4, n_neurons=50, dropout_rate=0.5, total= 2.7min\n",
      "[CV] n_hidden_layers=4, n_neurons=50, dropout_rate=0.5 ...............\n",
      "[CV]  n_hidden_layers=4, n_neurons=50, dropout_rate=0.5, total= 2.6min\n",
      "[CV] n_hidden_layers=5, n_neurons=100, dropout_rate=0.5 ..............\n",
      "[CV]  n_hidden_layers=5, n_neurons=100, dropout_rate=0.5, total= 4.0min\n",
      "[CV] n_hidden_layers=5, n_neurons=100, dropout_rate=0.5 ..............\n",
      "[CV]  n_hidden_layers=5, n_neurons=100, dropout_rate=0.5, total= 3.9min\n",
      "[CV] n_hidden_layers=5, n_neurons=100, dropout_rate=0.5 ..............\n",
      "[CV]  n_hidden_layers=5, n_neurons=100, dropout_rate=0.5, total= 4.2min\n",
      "[CV] n_hidden_layers=4, n_neurons=100, dropout_rate=None .............\n",
      "[CV]  n_hidden_layers=4, n_neurons=100, dropout_rate=None, total= 2.6min\n",
      "[CV] n_hidden_layers=4, n_neurons=100, dropout_rate=None .............\n",
      "[CV]  n_hidden_layers=4, n_neurons=100, dropout_rate=None, total= 2.6min\n",
      "[CV] n_hidden_layers=4, n_neurons=100, dropout_rate=None .............\n",
      "[CV]  n_hidden_layers=4, n_neurons=100, dropout_rate=None, total= 2.5min\n",
      "[CV] n_hidden_layers=5, n_neurons=50, dropout_rate=None ..............\n",
      "[CV]  n_hidden_layers=5, n_neurons=50, dropout_rate=None, total= 2.0min\n",
      "[CV] n_hidden_layers=5, n_neurons=50, dropout_rate=None ..............\n",
      "[CV]  n_hidden_layers=5, n_neurons=50, dropout_rate=None, total= 2.2min\n",
      "[CV] n_hidden_layers=5, n_neurons=50, dropout_rate=None ..............\n",
      "[CV]  n_hidden_layers=5, n_neurons=50, dropout_rate=None, total= 1.8min\n"
     ]
    },
    {
     "name": "stderr",
     "output_type": "stream",
     "text": [
      "[Parallel(n_jobs=1)]: Done  15 out of  15 | elapsed: 42.9min finished\n"
     ]
    },
    {
     "data": {
      "text/plain": [
       "RandomizedSearchCV(cv=None, error_score='raise',\n",
       "          estimator=DNNClassifier(activation=<function elu at 0x11861a5f0>,\n",
       "       batch_norm_momentum=None, batch_size=64, dropout_rate=None,\n",
       "       initializer=<function _initializer at 0xf20bc9140>,\n",
       "       learning_rate=0.01, max_checks_without_progress=20,\n",
       "       n_hidden_layers=5, n_neurons=100,\n",
       "       optimizer_class=<class 'tensorflow.python.training.adam.AdamOptimizer'>,\n",
       "       random_state=42, show_progress=None, tensorboard_logdir=None),\n",
       "          fit_params=None, iid=True, n_iter=5, n_jobs=1,\n",
       "          param_distributions={'n_hidden_layers': [4, 5], 'n_neurons': [50, 100], 'dropout_rate': [None, 0.5]},\n",
       "          pre_dispatch='2*n_jobs', random_state=None, refit=True,\n",
       "          return_train_score='warn', scoring='accuracy', verbose=2)"
      ]
     },
     "execution_count": 14,
     "metadata": {},
     "output_type": "execute_result"
    }
   ],
   "source": [
    "import tensorflow as tf\n",
    "\n",
    "dnn = DNNClassifier(show_progress=None, random_state=42)\n",
    "\n",
    "parameter_distributions = {\n",
    "    'n_hidden_layers': [4, 5],\n",
    "    'n_neurons': [50, 100],\n",
    "    'dropout_rate': [None, 0.5]\n",
    "}\n",
    "\n",
    "random_search = RandomizedSearchCV(dnn, parameter_distributions, n_iter=5, scoring='accuracy', verbose=2)\n",
    "random_search.fit(X_train, y_train)"
   ]
  },
  {
   "cell_type": "code",
   "execution_count": 15,
   "metadata": {},
   "outputs": [
    {
     "data": {
      "text/plain": [
       "{'dropout_rate': None, 'n_hidden_layers': 4, 'n_neurons': 100}"
      ]
     },
     "execution_count": 15,
     "metadata": {},
     "output_type": "execute_result"
    }
   ],
   "source": [
    "random_search.best_params_"
   ]
  },
  {
   "cell_type": "code",
   "execution_count": 16,
   "metadata": {},
   "outputs": [
    {
     "name": "stdout",
     "output_type": "stream",
     "text": [
      "Accuracy on test set: 88.51%\n"
     ]
    }
   ],
   "source": [
    "best_mnist_dnn = random_search.best_estimator_\n",
    "mnist_predictions = best_mnist_dnn.predict(X_test)\n",
    "\n",
    "print(\"Accuracy on test set: {:.2f}%\".format(accuracy_score(y_test, mnist_predictions) * 100))"
   ]
  },
  {
   "cell_type": "code",
   "execution_count": 17,
   "metadata": {
    "collapsed": true
   },
   "outputs": [],
   "source": [
    "random_search.best_estimator_.save(\"models/mnist_random_best_model\")"
   ]
  }
 ],
 "metadata": {
  "kernelspec": {
   "display_name": "Python 2",
   "language": "python",
   "name": "python2"
  },
  "language_info": {
   "codemirror_mode": {
    "name": "ipython",
    "version": 2
   },
   "file_extension": ".py",
   "mimetype": "text/x-python",
   "name": "python",
   "nbconvert_exporter": "python",
   "pygments_lexer": "ipython2",
   "version": "2.7.3"
  }
 },
 "nbformat": 4,
 "nbformat_minor": 2
}
